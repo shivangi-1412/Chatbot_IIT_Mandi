{
 "cells": [
  {
   "cell_type": "code",
   "execution_count": 2,
   "metadata": {},
   "outputs": [],
   "source": [
    "import os\n",
    "import textwrap\n",
    "import glob\n",
    "\n",
    "from llama_parse import LlamaParse\n",
    "\n",
    "os.environ[\"GROQ_API_KEY\"] = \"groqapi\"\n",
    "os.environ[\"LLAMA_CLOUD_API_KEY\"] = \"llamakey\"\n",
    "\n",
    "\n",
    "def print_response(response):\n",
    "    response_txt = response[\"result\"]\n",
    "    for chunk in response_txt.split(\"\\n\"):\n",
    "        if not chunk:\n",
    "            print()\n",
    "            continue\n",
    "        print(\"\\n\".join(textwrap.wrap(chunk, 100, break_long_words=False)))"
   ]
  },
  {
   "cell_type": "code",
   "execution_count": 3,
   "metadata": {},
   "outputs": [],
   "source": [
    "import os.path\n",
    "parser = LlamaParse(\n",
    "    result_type=\"markdown\",\n",
    "    # parsing_instruction=instruction,\n",
    "    max_timeout=89000,\n",
    ")\n",
    "pdf_directory = './data/'\n",
    "\n",
    "markdown_directory = './data'\n",
    "\n",
    "pdf_files = glob.glob(os.path.join(pdf_directory, 'Handbook_IIT Mandi_final_v3.pdf'))"
   ]
  },
  {
   "cell_type": "code",
   "execution_count": 4,
   "metadata": {},
   "outputs": [
    {
     "name": "stdout",
     "output_type": "stream",
     "text": [
      "Processing file: ./data/Handbook_IIT Mandi_final_v3.pdf (Attempt 1/5)\n",
      "Started parsing the file under job_id 79c96224-1a79-47c6-a10e-877937aeebad\n",
      "Successfully parsed PDF: ./data/Handbook_IIT Mandi_final_v3.pdf\n",
      "Markdown file saved: ./data\\Handbook_IIT Mandi_final_v3.md\n"
     ]
    }
   ],
   "source": [
    "import asyncio\n",
    "import nest_asyncio\n",
    "nest_asyncio.apply()\n",
    "from httpx import ReadTimeout\n",
    "\n",
    "# for 5 tries\n",
    "max_retries = 5\n",
    "retry_delay = 3  # in seconds\n",
    "\n",
    "async def process_pdf(pdf_file):\n",
    "    retries = 0\n",
    "    while retries < max_retries:\n",
    "        try:\n",
    "            print(f\"Processing file: {pdf_file} (Attempt {retries + 1}/{max_retries})\")\n",
    "\n",
    "            markdown_content = await parser.aload_data(pdf_file)\n",
    "            print(f\"Successfully parsed PDF: {pdf_file}\")\n",
    "\n",
    "            markdown_file = os.path.join(markdown_directory, os.path.basename(pdf_file).replace('.pdf', '.md'))\n",
    "            with open(markdown_file, \"w\", encoding='utf-8') as md_file:  # Changed \"a\" to \"w\" to overwrite if exists\n",
    "                md_file.write(markdown_content[0].text)\n",
    "            print(f\"Markdown file saved: {markdown_file}\")\n",
    "            return\n",
    "\n",
    "        except ReadTimeout:\n",
    "            print(f\"ReadTimeout occurred while processing {pdf_file}. Retrying {retries + 1}/{max_retries}...\")\n",
    "            retries += 1\n",
    "            await asyncio.sleep(retry_delay)\n",
    "        except Exception as e:\n",
    "            print(f\"An error occurred while processing {pdf_file}: {e}\")\n",
    "            retries += 1\n",
    "            await asyncio.sleep(retry_delay)\n",
    "\n",
    "    print(f\"Failed to process {pdf_file} after {max_retries} retries.\")\n",
    "    \n",
    "\n",
    "if asyncio.get_event_loop().is_running():\n",
    "    tasks = [process_pdf(pdf_file) for pdf_file in pdf_files]\n",
    "    results = await asyncio.gather(*tasks)\n",
    "else:\n",
    "    tasks = [process_pdf(pdf_file) for pdf_file in pdf_files]\n",
    "    results = asyncio.run(asyncio.gather(*tasks))\n",
    "\n"
   ]
  }
 ],
 "metadata": {
  "kernelspec": {
   "display_name": "Python 3",
   "language": "python",
   "name": "python3"
  },
  "language_info": {
   "codemirror_mode": {
    "name": "ipython",
    "version": 3
   },
   "file_extension": ".py",
   "mimetype": "text/x-python",
   "name": "python",
   "nbconvert_exporter": "python",
   "pygments_lexer": "ipython3",
   "version": "3.11.6"
  }
 },
 "nbformat": 4,
 "nbformat_minor": 2
}
