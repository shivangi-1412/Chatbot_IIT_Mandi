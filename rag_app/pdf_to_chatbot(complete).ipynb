{
 "cells": [
  {
   "cell_type": "code",
   "execution_count": 1,
   "metadata": {},
   "outputs": [
    {
     "name": "stderr",
     "output_type": "stream",
     "text": [
      "c:\\Users\\DELL2023\\Desktop\\rag\\.venv_rag\\Lib\\site-packages\\tqdm\\auto.py:21: TqdmWarning: IProgress not found. Please update jupyter and ipywidgets. See https://ipywidgets.readthedocs.io/en/stable/user_install.html\n",
      "  from .autonotebook import tqdm as notebook_tqdm\n"
     ]
    }
   ],
   "source": [
    "import os\n",
    "import textwrap\n",
    "import glob\n",
    "from pathlib import Path\n",
    "from IPython.display import Markdown\n",
    "from langchain.chains import RetrievalQA\n",
    "from langchain.prompts import PromptTemplate\n",
    "from langchain.retrievers import ContextualCompressionRetriever\n",
    "from langchain.retrievers.document_compressors import FlashrankRerank\n",
    "from langchain.text_splitter import RecursiveCharacterTextSplitter\n",
    "from langchain.vectorstores import Qdrant\n",
    "from qdrant_client import QdrantClient\n",
    "from langchain_community.document_loaders import UnstructuredMarkdownLoader\n",
    "from langchain_community.embeddings.fastembed import FastEmbedEmbeddings\n",
    "from langchain_core.prompts import ChatPromptTemplate\n",
    "from langchain_groq import ChatGroq\n",
    "from langchain.memory import ConversationBufferWindowMemory\n",
    "from llama_parse import LlamaParse\n",
    "# from langchain_openai import OpenAI\n",
    "from langchain.chains import ConversationChain\n",
    "\n",
    "os.environ[\"GROQ_API_KEY\"] = \"mygroqapi\"\n",
    "os.environ[\"LLAMA_CLOUD_API_KEY\"] = \"llamakey\"\n"
   ]
  },
  {
   "cell_type": "code",
   "execution_count": 3,
   "metadata": {},
   "outputs": [],
   "source": [
    "# import os.path\n",
    "# parser = LlamaParse(\n",
    "#     result_type=\"markdown\",\n",
    "#     # parsing_instruction=instruction,\n",
    "#     max_timeout=89000,\n",
    "# )\n",
    "# pdf_directory = './data'\n",
    "\n",
    "# markdown_directory = './data'\n",
    "\n",
    "# qdrant_db_path = './db'\n",
    "\n",
    "# all_docs = []\n",
    "\n",
    "# pdf_files = glob.glob(os.path.join(pdf_directory, '*.pdf'))"
   ]
  },
  {
   "cell_type": "code",
   "execution_count": 3,
   "metadata": {},
   "outputs": [],
   "source": [
    "markdown_directory = './data'\n",
    "\n",
    "chroma_db_path = \"./chroma_db\"\n",
    "\n",
    "\n",
    "all_docs = []\n",
    "\n",
    "markdown_files = glob.glob(os.path.join(markdown_directory, '*.md'))"
   ]
  },
  {
   "cell_type": "code",
   "execution_count": null,
   "metadata": {},
   "outputs": [],
   "source": [
    "# import asyncio\n",
    "# import nest_asyncio\n",
    "# nest_asyncio.apply()\n",
    "# from httpx import ReadTimeout\n",
    "\n",
    "# # for 5 tries\n",
    "# max_retries = 5\n",
    "# retry_delay = 3  # in seconds\n",
    "\n",
    "# async def process_pdf(pdf_file):\n",
    "#     retries = 0\n",
    "#     while retries < max_retries:\n",
    "#         try:\n",
    "#             print(f\"Processing file: {pdf_file} (Attempt {retries + 1}/{max_retries})\")\n",
    "\n",
    "#             markdown_content = await parser.aload_data(pdf_file)\n",
    "#             print(f\"Successfully parsed PDF: {pdf_file}\")\n",
    "\n",
    "#             markdown_file = os.path.join(markdown_directory, os.path.basename(pdf_file).replace('.pdf', '.md'))\n",
    "#             with open(markdown_file, \"w\", encoding='utf-8') as md_file:  # Changed \"a\" to \"w\" to overwrite if exists\n",
    "#                 md_file.write(markdown_content[0].text)\n",
    "#             print(f\"Markdown file saved: {markdown_file}\")\n",
    "\n",
    "#             loader = UnstructuredMarkdownLoader(markdown_file)\n",
    "#             loaded_documents = loader.load()\n",
    "#             print(f\"Loaded documents from markdown file: {markdown_file}\")\n",
    "\n",
    "#             text_splitter = RecursiveCharacterTextSplitter(chunk_size=1024, chunk_overlap=128)\n",
    "#             docs = text_splitter.split_documents(loaded_documents)\n",
    "#             print(f\"Successfully split documents for file: {pdf_file}\")\n",
    "\n",
    "#             return docs\n",
    "\n",
    "#         except ReadTimeout:\n",
    "#             print(f\"ReadTimeout occurred while processing {pdf_file}. Retrying {retries + 1}/{max_retries}...\")\n",
    "#             retries += 1\n",
    "#             await asyncio.sleep(retry_delay)\n",
    "#         except Exception as e:\n",
    "#             print(f\"An error occurred while processing {pdf_file}: {e}\")\n",
    "#             retries += 1\n",
    "#             await asyncio.sleep(retry_delay)\n",
    "\n",
    "#     print(f\"Failed to process {pdf_file} after {max_retries} retries.\")\n",
    "#     return []\n",
    "\n",
    "# if asyncio.get_event_loop().is_running():\n",
    "#     tasks = [process_pdf(pdf_file) for pdf_file in pdf_files]\n",
    "#     results = await asyncio.gather(*tasks)\n",
    "# else:\n",
    "#     tasks = [process_pdf(pdf_file) for pdf_file in pdf_files]\n",
    "#     results = asyncio.run(asyncio.gather(*tasks))\n",
    "\n",
    "# for result in results:\n",
    "#     all_docs.extend(result)"
   ]
  },
  {
   "cell_type": "code",
   "execution_count": 5,
   "metadata": {},
   "outputs": [
    {
     "name": "stdout",
     "output_type": "stream",
     "text": [
      "Processing file: ./data\\B.Tech Civil Engineering_2023.md (Attempt 1/5)\n",
      "Loaded documents from markdown file: ./data\\B.Tech Civil Engineering_2023.md\n",
      "Successfully split documents for file: ./data\\B.Tech Civil Engineering_2023.md\n",
      "Processing file: ./data\\B.Tech CSE_2023.md (Attempt 1/5)\n",
      "Loaded documents from markdown file: ./data\\B.Tech CSE_2023.md\n",
      "Successfully split documents for file: ./data\\B.Tech CSE_2023.md\n",
      "Processing file: ./data\\B.Tech Mechanical course structure_2023.md (Attempt 1/5)\n",
      "Loaded documents from markdown file: ./data\\B.Tech Mechanical course structure_2023.md\n",
      "Successfully split documents for file: ./data\\B.Tech Mechanical course structure_2023.md\n",
      "Processing file: ./data\\B.TechEngg.Physics_0.md (Attempt 1/5)\n",
      "Loaded documents from markdown file: ./data\\B.TechEngg.Physics_0.md\n",
      "Successfully split documents for file: ./data\\B.TechEngg.Physics_0.md\n",
      "Processing file: ./data\\B.TechinDataScience.md (Attempt 1/5)\n",
      "Loaded documents from markdown file: ./data\\B.TechinDataScience.md\n",
      "Successfully split documents for file: ./data\\B.TechinDataScience.md\n",
      "Processing file: ./data\\bioengg_dual_btech_mtech_3.md (Attempt 1/5)\n",
      "Loaded documents from markdown file: ./data\\bioengg_dual_btech_mtech_3.md\n",
      "Successfully split documents for file: ./data\\bioengg_dual_btech_mtech_3.md\n",
      "Processing file: ./data\\BS_CS.md (Attempt 1/5)\n",
      "Loaded documents from markdown file: ./data\\BS_CS.md\n",
      "Successfully split documents for file: ./data\\BS_CS.md\n",
      "Processing file: ./data\\btech_cse.md (Attempt 1/5)\n",
      "Loaded documents from markdown file: ./data\\btech_cse.md\n",
      "Successfully split documents for file: ./data\\btech_cse.md\n",
      "Processing file: ./data\\btech_ee_6.md (Attempt 1/5)\n",
      "Loaded documents from markdown file: ./data\\btech_ee_6.md\n",
      "Successfully split documents for file: ./data\\btech_ee_6.md\n",
      "Processing file: ./data\\Btech_Gen_Engg.md (Attempt 1/5)\n",
      "Loaded documents from markdown file: ./data\\Btech_Gen_Engg.md\n",
      "Successfully split documents for file: ./data\\Btech_Gen_Engg.md\n",
      "Processing file: ./data\\BTech_MateislEngg.md (Attempt 1/5)\n",
      "Loaded documents from markdown file: ./data\\BTech_MateislEngg.md\n",
      "Successfully split documents for file: ./data\\BTech_MateislEngg.md\n",
      "Processing file: ./data\\BTech_Maths_Computing.md (Attempt 1/5)\n",
      "Loaded documents from markdown file: ./data\\BTech_Maths_Computing.md\n",
      "Successfully split documents for file: ./data\\BTech_Maths_Computing.md\n",
      "Processing file: ./data\\btech_mech2022.md (Attempt 1/5)\n",
      "Loaded documents from markdown file: ./data\\btech_mech2022.md\n",
      "Successfully split documents for file: ./data\\btech_mech2022.md\n",
      "Processing file: ./data\\Btech_ME_VLSI.md (Attempt 1/5)\n",
      "Loaded documents from markdown file: ./data\\Btech_ME_VLSI.md\n",
      "Successfully split documents for file: ./data\\Btech_ME_VLSI.md\n",
      "Processing file: ./data\\CE_Curriculum.md (Attempt 1/5)\n",
      "Loaded documents from markdown file: ./data\\CE_Curriculum.md\n",
      "Successfully split documents for file: ./data\\CE_Curriculum.md\n",
      "Processing file: ./data\\Engineering Physics_2023.md (Attempt 1/5)\n",
      "Loaded documents from markdown file: ./data\\Engineering Physics_2023.md\n",
      "Successfully split documents for file: ./data\\Engineering Physics_2023.md\n",
      "Processing file: ./data\\Fnew_degree_prgm.md (Attempt 1/5)\n",
      "Loaded documents from markdown file: ./data\\Fnew_degree_prgm.md\n",
      "Successfully split documents for file: ./data\\Fnew_degree_prgm.md\n",
      "Processing file: ./data\\Handbook_IIT Mandi_final_v3.md (Attempt 1/5)\n",
      "Loaded documents from markdown file: ./data\\Handbook_IIT Mandi_final_v3.md\n",
      "Successfully split documents for file: ./data\\Handbook_IIT Mandi_final_v3.md\n",
      "Processing file: ./data\\UG_Academic_Handbook _2022_23.md (Attempt 1/5)\n",
      "Loaded documents from markdown file: ./data\\UG_Academic_Handbook _2022_23.md\n",
      "Successfully split documents for file: ./data\\UG_Academic_Handbook _2022_23.md\n"
     ]
    }
   ],
   "source": [
    "import asyncio\n",
    "import nest_asyncio\n",
    "nest_asyncio.apply()\n",
    "from httpx import ReadTimeout\n",
    "\n",
    "\n",
    "import tiktoken\n",
    "\n",
    "tokenizer = tiktoken.get_encoding('cl100k_base')\n",
    "\n",
    "# create the length function\n",
    "def tiktoken_len(text):\n",
    "    tokens = tokenizer.encode(\n",
    "        text,\n",
    "        disallowed_special=()\n",
    "    )\n",
    "    return len(tokens)\n",
    "\n",
    "\n",
    "# for 5 tries\n",
    "max_retries = 5\n",
    "retry_delay = 3  # in seconds\n",
    "\n",
    "\n",
    "async def process_md(markdown_file):\n",
    "    retries = 0\n",
    "    while retries < max_retries:\n",
    "        try:\n",
    "            print(f\"Processing file: {markdown_file} (Attempt {retries + 1}/{max_retries})\")\n",
    "\n",
    "            loader = UnstructuredMarkdownLoader(markdown_file)\n",
    "            loaded_documents = loader.load()\n",
    "            print(f\"Loaded documents from markdown file: {markdown_file}\")\n",
    "\n",
    "            text_splitter = RecursiveCharacterTextSplitter(chunk_size=512, chunk_overlap=30, length_function=tiktoken_len, separators=[' ', ''])\n",
    "            docs = text_splitter.split_documents(loaded_documents)\n",
    "            print(f\"Successfully split documents for file: {markdown_file}\")\n",
    "\n",
    "            return docs\n",
    "\n",
    "        except ReadTimeout:\n",
    "            print(f\"ReadTimeout occurred while processing {markdown_file}. Retrying {retries + 1}/{max_retries}...\")\n",
    "            retries += 1\n",
    "            await asyncio.sleep(retry_delay)\n",
    "        except Exception as e:\n",
    "            print(f\"An error occurred while processing {markdown_file}: {e}\")\n",
    "            retries += 1\n",
    "            await asyncio.sleep(retry_delay)\n",
    "\n",
    "    print(f\"Failed to process {markdown_file} after {max_retries} retries.\")\n",
    "    return []\n",
    "\n",
    "if asyncio.get_event_loop().is_running():\n",
    "    tasks = [process_md(markdown_file) for markdown_file in markdown_files]\n",
    "    results = await asyncio.gather(*tasks)\n",
    "else:\n",
    "    tasks = [process_md(markdown_file) for markdown_file in markdown_files]\n",
    "    results = asyncio.run(asyncio.gather(*tasks))\n",
    "\n",
    "for result in results:\n",
    "    all_docs.extend(result)"
   ]
  },
  {
   "cell_type": "code",
   "execution_count": 2,
   "metadata": {},
   "outputs": [
    {
     "name": "stderr",
     "output_type": "stream",
     "text": [
      "Fetching 5 files: 100%|██████████| 5/5 [00:00<?, ?it/s]\n"
     ]
    }
   ],
   "source": [
    "embeddings = FastEmbedEmbeddings(model_name=\"BAAI/bge-base-en-v1.5\")"
   ]
  },
  {
   "cell_type": "code",
   "execution_count": 3,
   "metadata": {},
   "outputs": [],
   "source": [
    "qdrant = Qdrant.from_documents(\n",
    "all_docs,\n",
    "embeddings,\n",
    "# location=\":memory:\",\n",
    "path=\"./db\",\n",
    "collection_name=\"document_embeddings\",\n",
    ")\n",
    "# else:\n",
    "qdrant = Qdrant.from_existing_collection(\n",
    "    embeddings,\n",
    "    # location=\":memory:\",\n",
    "    path=\"./db\",\n",
    "    collection_name=\"document_embeddings\",\n",
    "    )"
   ]
  },
  {
   "cell_type": "code",
   "execution_count": 4,
   "metadata": {},
   "outputs": [],
   "source": [
    "retriever = qdrant.as_retriever(search_kwargs={\"k\": 12})\n",
    "compressor = FlashrankRerank(model=\"ms-marco-MiniLM-L-12-v2\")\n",
    "compression_retriever = ContextualCompressionRetriever(\n",
    "    base_compressor=compressor, base_retriever=retriever\n",
    ")"
   ]
  },
  {
   "cell_type": "code",
   "execution_count": 5,
   "metadata": {},
   "outputs": [],
   "source": [
    "llm = ChatGroq(temperature = 0.1, model_name=\"llama3-70b-8192\")"
   ]
  },
  {
   "cell_type": "code",
   "execution_count": 6,
   "metadata": {},
   "outputs": [],
   "source": [
    "from langchain_core.output_parsers import StrOutputParser\n",
    "from langchain_core.runnables import RunnablePassthrough\n",
    "\n",
    "output_parser = StrOutputParser()\n",
    "\n",
    "from langchain_core.prompts import ChatPromptTemplate, MessagesPlaceholder\n",
    "\n",
    "instruction_to_system = \"\"\"\n",
    "formulate it as a detailed standalone question\n",
    "DO not include the phrase IIT Mandi or \"Indian Institute of Technology, Mandi\"in your final output question, simply trim that part out of your question\n",
    "Do NOT answer the question,\n",
    "for example, If the question is \"what is the design club of IIT mandi\" your output should be \"What is the design club, tell me about its activities.\" \n",
    "just reformulate it if needed and otherwise return it as is.\n",
    "Focus on the subject of the question more than the object.\n",
    "\"\"\"\n",
    "\n",
    "question_maker_prompt = ChatPromptTemplate.from_messages(\n",
    "    [\n",
    "        (\"system\", instruction_to_system),\n",
    "        MessagesPlaceholder(variable_name=\"chat_history\"),\n",
    "        (\"human\", \"{question}\")\n",
    "    ]\n",
    ")\n",
    "\n",
    "question_chain = question_maker_prompt | llm | StrOutputParser()"
   ]
  },
  {
   "cell_type": "code",
   "execution_count": 7,
   "metadata": {},
   "outputs": [
    {
     "data": {
      "text/plain": [
       "'Are there any other clubs similar to a design club, and what kind of activities do they usually engage in?'"
      ]
     },
     "execution_count": 7,
     "metadata": {},
     "output_type": "execute_result"
    }
   ],
   "source": [
    "from langchain_core.messages import HumanMessage\n",
    "question_chain.invoke({\"question\":\"are their any more similar clubs?\", \"chat_history\": [HumanMessage(content=\"tell me about design club of IIT Mandi\")]})"
   ]
  },
  {
   "cell_type": "code",
   "execution_count": 8,
   "metadata": {},
   "outputs": [],
   "source": [
    "qa_system_prompt = \"\"\"Use the following pieces of information to answer the user's question.\n",
    "If you don't know the answer, just say that this is something I am not equipped to advice you on, don't try to make up an answer.\n",
    "\n",
    "Context: {context}\n",
    "If no data is available for a given question, say I do not have information about your question currently, for more details visit IIT Mandi official website.\n",
    "\n",
    "Always try to give, to the point and relevant answers STRICTLY LESS THAN 500 WORDS EVERYTIME.\n",
    "\n",
    "Try to give all the numbers, facts and figures mentioned in the supplied context but in a human readable, easy to read, PARAGRAPHICAL WELL FORMATTED LAYOUT.\n",
    "\n",
    "REMEMBER DO NOT GIVE A PLACEHOLDER IF THE CONTEXT HAS NO LINK.\n",
    "\n",
    "THERE SHOULD BE A CHRONOLOGY and a sense of continuity WITHIN THE RESPONSE. MOST RELEVANT POINTS SHOULD BE AT THE TOP.\n",
    "Add personlization, give an answer as if you are directly talking to the person.\n",
    "\n",
    "Try to answer in bullet points wherever necessary.\n",
    "\"\"\"\n",
    "\n",
    "\n",
    "qa_prompt = ChatPromptTemplate.from_messages(\n",
    "    [\n",
    "        (\"system\", qa_system_prompt),\n",
    "        MessagesPlaceholder(variable_name=\"chat_history\"),\n",
    "        (\"human\", \"{question}\"),\n",
    "    ]\n",
    ")\n"
   ]
  },
  {
   "cell_type": "code",
   "execution_count": 9,
   "metadata": {},
   "outputs": [],
   "source": [
    "def contextualized_question(input: dict):\n",
    "    return question_chain"
   ]
  },
  {
   "cell_type": "code",
   "execution_count": 10,
   "metadata": {},
   "outputs": [],
   "source": [
    "from langchain_core.runnables import RunnablePassthrough\n",
    "retriever_chain = RunnablePassthrough.assign(\n",
    "        context=contextualized_question | compression_retriever \n",
    "    )"
   ]
  },
  {
   "cell_type": "code",
   "execution_count": 11,
   "metadata": {},
   "outputs": [
    {
     "name": "stdout",
     "output_type": "stream",
     "text": [
      "Running pairwise ranking..\n"
     ]
    },
    {
     "data": {
      "text/plain": [
       "{'question': 'DSA is of how many credits?',\n",
       " 'chat_history': [HumanMessage(content='')],\n",
       " 'context': [Document(page_content=\"Shortest Paths using Floyd Warshall, Maximum Flow (Ford Fulkerson)\\n\\nAdvanced Data Structures: Quake heaps, van Emde Boas Trees, Union Find Data structures\\n\\nComputational complexity: Problem classes: P; NP; NP-complete, NP-hard. Reduction. Cook's theorem; Examples of NP-complete problems\\n\\nApproximation Algorithms - Greedy and Local Search algorithms; DP Algorithms\\n\\nChapter 2. Course Structure, Credit System & Evaluation\\n\\n2.2. Credit System\\n\\nEach course has a certain number of credit(s) assigned to it depending upon its lecture, tutorial and laboratory/practical contact hours in a week. This weightage is also indicative of the academic expectation that includes in-class contact and self-study outside class hours.\\n\\nLectures and Tutorials:\\n\\n1 credit 1 contact-hour per week (50 minutes) 2-3 hours expected self-study time outside class for every contact hour\\n\\nLaboratory:\\n\\n1 credit 1-2 hour lab session per week 2 credits 3-4 hour lab session per week 3 credits 5-6 hour lab session per week 4 credits 7-8 hour lab session per week\\n\\nA student is expected to spend 1 hour outside the lab per lab hour, for preparation, self-study etc.\\n\\nChapter 2. Course Structure, Credit System & Evaluation\\n\\n2.2. Credit System\\n\\nCredit structure of each course is given in L-T-P-C form (e.g. 2–1–0–3). The numbers corresponding to L, T and P denote the contact hours per week for Lecture, Tutorial and Practical/Practicum respectively, and that of C denotes the total number of credits for that course in a semester.\\n\\nExamples -\\n\\nCE511 (3-0-0-3) This course has a total of three credits and all are to be delivered through 3 lectures (50 min each) per week. CE556P (0-0-4-2) This course has a total of two credits and all are to be delivered through 4 laboratory/practical sessions (50 min each) or one session of about 3-3.5 hours per week etc. ME513 (3-0-2-4) This course has a total of four credits and they are to be delivered through 3 lectures (50 min each) and about 2 hours of laboratory/practical sessions per week. ME517 (3-1-0-4) This course has a total of four credits and they are\", metadata={'source': './data\\\\UG_Academic_Handbook _2022_23.md', '_id': '42a762d6275548249bccdc0c7cd50a54', '_collection_name': 'document_embeddings', 'relevance_score': 0.817571759223938}),\n",
       "  Document(page_content='pe roll number.\\n\\nCourse Structure, Credit System & Evaluation\\n\\n2.1 Courses\\n\\n2.1.1 Course numbering Scheme\\n\\nEach course is referred to by a course code and title. Course code for each course is a five alpha-numeric characters consisting of two alphabets followed by three numerals. An example numbering is shown below.\\n\\nCode of the discipline ME category of course 4Q1 Unique identification code of the course Level of the course 1 to 4: UG Course 5-7: PG Course --- # Chapter 2. Course Structure, Credit System & Evaluation\\n\\n2.1. Courses\\n\\n2.1.2 Description of Course Content\\n\\nCourse content description consists of following components: (i) Course number (ii) Course name (iii) Credits (LTPC) (iv) Prerequisites (v) Intended for (vi) Distribution (vii) Semester (viii) Preamble (ix) Course Modules (x) Textbooks and Reference books (xi) Similarity content with existing courses\\n\\nAn example of course description is as follows -\\n\\nCourse number CSS14 Course name Data Structures and Algorithms-II Credits 3-0-2-4 Prerequisites CS-202 (DSA) or equivalent for UG students, None for PG students Intended for BTech (Semester 5 or 6) who have not taken CS403, MTech (CSE), MS, PhD Distribution Discipline Core for MTech CSE, Elective for UG CSE/DS, MS/PhD Semester OddEven\\n\\nPreamble\\n\\n(CS202), offers formal introduction to various common algorithm design techniques, methods. The proposed elective course, building on top of the course on Data Structures and Algorithms for analyzing the performance of corresponding algorithms and improving their efficiency; and to provide performance guarantees.\\n\\nThe theoretical aspects of this course are going to be supplemented by comprehensive practice exercises and weekly programming labs worth one lab credit.\\n\\nCourse modules\\n\\nReview of Data Structures from CS202: Asymptotic Notations, Solving recurrences, Insertion Sort, MergeSort, QuickSort\\n\\nAdvanced topics in Sorting and Searching - Randomized Data Structures Treaps, Hashing, AVL Trees, Bucket Sort\\n\\nDynamic Programming\\n\\nAmortized analysis: aggregate analysis, accounting; potential method\\n\\nGraph Algorithms: Single-Source Shortest Paths Bellman Ford, All-Pairs Shortest Paths using Floyd Warshall, Maximum Flow (Ford Fulkerson)\\n\\nAdvanced Data Structures: Quake heaps, van Emde Boas', metadata={'source': './data\\\\UG_Academic_Handbook _2022_23.md', '_id': 'a6108a6f0ebe4f538827e93f793ba2d7', '_collection_name': 'document_embeddings', 'relevance_score': 0.5800543427467346}),\n",
       "  Document(page_content='3 5 IC260 Signals and Systems 2.5 0.5 0 3 6 HSXXX HSS Course 3 0 0 3\\n\\nTotal Credit: 18\\n\\nB.Tech (Data Science and Engineering) – 4th Sem.\\n\\nS.No. Core/Elective Course Name Lecture Tutorial Practical Credit 1 IC241 Materials Science for Engineers 3 0 0 3 2 IC221 Foundations of Electrodynamics 3 0 0 3 3 IC222P Physics Practicum 0 0 3 2 4 IC242 Continuum Mechanics 2.5 0.5 0 3 5 IC201P Design Practicum 0 0 6 4 5 DS202 Introduction to Data structures and Algorithms 2 0 2 3 6 DS303 Statistical Foundations of Data Science 3 0 0 3\\n\\nTotal Credit: 21\\n\\nB.Tech (Data Science and Engineering) – 5th Sem.\\n\\nS.No. Core/Elective Course Name Lecture Tutorial Practical Credit 1 IC240 Mechanics of Rigid Bodies 1.5 1.5 0 3 2 IC136 Understanding Biotechnology & Its Applications 3 0 0 3 3 IC130 Applied Chemistry for Engineers 3 0 2 5 4 IC130P Chemistry Practicum 0 0 3 2 5 DS402 Matrix Computations for Data Science 2 0 2 3 6 DS301 Data Science IIMathematical Foundations of 3 0 0 3 7 DS404 Information Security and Privacy 3 0 0 3\\n\\nTotal Credit: 20\\n\\nB.Tech (Data Science and Engineering) - 6th Sem.\\n\\nS. No. Core/Elective Course Name Lecture Tutorial Practical Credit 1 DS403 Introduction to Statistical Learning 3 0 2 3 2 DS302 Computing Systems for Data Processing 3 0 3 3 3 DS401 Optimization for Data Science 3 0 0 3 4 DE-1 Discipline elective 3 / 4 5 DE-2 Discipline elective 3 / 4 6 OE-1 Open Elective 3 / 4\\n\\nTotal Credit: 18-21\\n\\nB.Tech (Data Science and Engineering) – 7th Sem.\\n\\nS.No. Core/Elective Course Name Lecture Tutorial Practical Credit 1', metadata={'source': './data\\\\B.TechinDataScience.md', '_id': 'bbb5200672ac49e3b9a39f2c740625c5', '_collection_name': 'document_embeddings', 'relevance_score': 0.5024857521057129})]}"
      ]
     },
     "execution_count": 11,
     "metadata": {},
     "output_type": "execute_result"
    }
   ],
   "source": [
    "retriever_chain.invoke({\n",
    "    \"question\": \"DSA is of how many credits?\" , \"chat_history\": [HumanMessage(content=\"\")]\n",
    "    })"
   ]
  },
  {
   "cell_type": "code",
   "execution_count": 12,
   "metadata": {},
   "outputs": [],
   "source": [
    "rag_chain = (\n",
    "    retriever_chain\n",
    "    | qa_prompt\n",
    "    | llm\n",
    "    | output_parser\n",
    ")"
   ]
  },
  {
   "cell_type": "code",
   "execution_count": 13,
   "metadata": {},
   "outputs": [],
   "source": [
    "chat_history = []"
   ]
  },
  {
   "cell_type": "code",
   "execution_count": 14,
   "metadata": {},
   "outputs": [
    {
     "name": "stdout",
     "output_type": "stream",
     "text": [
      "Running pairwise ranking..\n",
      "\n",
      "Hello! According to the information I have, the Director of IIT Mandi is Prof. Laxmidhar Behera.\n",
      "\n"
     ]
    }
   ],
   "source": [
    "# ENTER YOUR QUESTION HERE\n",
    "question = \"\"\"who is the director of IIT Mandi?\n",
    "\"\"\"\n",
    "\n",
    "ai_msg = rag_chain.invoke({\"question\": question, \"chat_history\" : chat_history})\n",
    "print()\n",
    "print(ai_msg)\n",
    "print()\n",
    "chat_history.clear\n",
    "chat_history.extend([HumanMessage(content = question), ai_msg])"
   ]
  },
  {
   "cell_type": "code",
   "execution_count": 23,
   "metadata": {},
   "outputs": [
    {
     "name": "stdout",
     "output_type": "stream",
     "text": [
      "Running pairwise ranking..\n",
      "\n",
      "Congratulations on joining IIT Mandi! Here are a few things to keep in mind as you start your journey:\n",
      "\n",
      "* The institute offers a wide range of resources to explore, including academic and non-academic activities, cultural, technical, literary, and sports facilities.\n",
      "* You'll have access to unique activities like hiking, trekking, and mountain biking.\n",
      "* Make sure to use every resource carefully and with a sense of responsibility.\n",
      "* The institute aims to produce all-rounder technocrats with exposure to both academic and non-academic activities.\n",
      "* You'll find a comprehensive handbook that serves as a guide to the campus, including information on available facilities, hostels, canteens, and the student gymkhana.\n",
      "* The handbook also includes frequently asked questions, details on many issues you may encounter, and useful contact details of key people.\n",
      "\n",
      "Additionally, don't forget to explore the various student societies and clubs, such as the Research Council, IEEE, ACM, ACM-W, and more, which can help you develop your skills and interests.\n",
      "\n",
      "Remember, IIT Mandi is committed to helping you realize your career aspirations. Make the most of your time there, and don't hesitate to reach out if you need any guidance or support!\n",
      "\n"
     ]
    }
   ],
   "source": [
    "# ENTER YOUR QUESTION HERE\n",
    "question = \"\"\"I am joining IIT mandi soon, things to keep in mind.\n",
    "\"\"\"\n",
    "ai_msg = rag_chain.invoke({\"question\": question, \"chat_history\" : chat_history})\n",
    "print()\n",
    "print(ai_msg)\n",
    "print()\n",
    "chat_history.clear\n",
    "chat_history.extend([HumanMessage(content = question), ai_msg])"
   ]
  },
  {
   "cell_type": "code",
   "execution_count": 20,
   "metadata": {},
   "outputs": [
    {
     "ename": "ValidationError",
     "evalue": "2 validation errors for HumanMessage\ncontent\n  str type expected (type=type_error.str)\ncontent\n  value is not a valid list (type=type_error.list)",
     "output_type": "error",
     "traceback": [
      "\u001b[1;31m---------------------------------------------------------------------------\u001b[0m",
      "\u001b[1;31mValidationError\u001b[0m                           Traceback (most recent call last)",
      "Cell \u001b[1;32mIn[20], line 5\u001b[0m\n\u001b[0;32m      1\u001b[0m \u001b[38;5;66;03m# ENTER YOUR QUESTION HERE\u001b[39;00m\n\u001b[0;32m      2\u001b[0m question \u001b[38;5;241m=\u001b[39m \u001b[38;5;124m\"\"\"\u001b[39m\u001b[38;5;124mhow many total credits need to be done in B.tech IIT mandi per semester\u001b[39m\n\u001b[0;32m      3\u001b[0m \u001b[38;5;124m\"\"\"\u001b[39m\n\u001b[1;32m----> 5\u001b[0m ai_msg \u001b[38;5;241m=\u001b[39m rag_chain\u001b[38;5;241m.\u001b[39minvoke({\u001b[38;5;124m\"\u001b[39m\u001b[38;5;124mquestion\u001b[39m\u001b[38;5;124m\"\u001b[39m: question,\u001b[38;5;124m\"\u001b[39m\u001b[38;5;124mchat_history\u001b[39m\u001b[38;5;124m\"\u001b[39m:  [\u001b[43mHumanMessage\u001b[49m\u001b[43m(\u001b[49m\u001b[43mcontent\u001b[49m\u001b[38;5;241;43m=\u001b[39;49m\u001b[43mchat_history\u001b[49m\u001b[43m[\u001b[49m\u001b[38;5;241;43m0\u001b[39;49m\u001b[43m]\u001b[49m\u001b[43m)\u001b[49m]})\n\u001b[0;32m      7\u001b[0m \u001b[38;5;28mprint\u001b[39m()\n\u001b[0;32m      8\u001b[0m \u001b[38;5;28mprint\u001b[39m(ai_msg\u001b[38;5;241m.\u001b[39mcontent)\n",
      "File \u001b[1;32mc:\\Users\\DELL2023\\Desktop\\rag\\.venv_rag\\Lib\\site-packages\\langchain_core\\messages\\base.py:47\u001b[0m, in \u001b[0;36mBaseMessage.__init__\u001b[1;34m(self, content, **kwargs)\u001b[0m\n\u001b[0;32m     43\u001b[0m \u001b[38;5;28;01mdef\u001b[39;00m \u001b[38;5;21m__init__\u001b[39m(\n\u001b[0;32m     44\u001b[0m     \u001b[38;5;28mself\u001b[39m, content: Union[\u001b[38;5;28mstr\u001b[39m, List[Union[\u001b[38;5;28mstr\u001b[39m, Dict]]], \u001b[38;5;241m*\u001b[39m\u001b[38;5;241m*\u001b[39mkwargs: Any\n\u001b[0;32m     45\u001b[0m ) \u001b[38;5;241m-\u001b[39m\u001b[38;5;241m>\u001b[39m \u001b[38;5;28;01mNone\u001b[39;00m:\n\u001b[0;32m     46\u001b[0m \u001b[38;5;250m    \u001b[39m\u001b[38;5;124;03m\"\"\"Pass in content as positional arg.\"\"\"\u001b[39;00m\n\u001b[1;32m---> 47\u001b[0m     \u001b[38;5;28;01mreturn\u001b[39;00m \u001b[38;5;28;43msuper\u001b[39;49m\u001b[43m(\u001b[49m\u001b[43m)\u001b[49m\u001b[38;5;241;43m.\u001b[39;49m\u001b[38;5;21;43m__init__\u001b[39;49m\u001b[43m(\u001b[49m\u001b[43mcontent\u001b[49m\u001b[38;5;241;43m=\u001b[39;49m\u001b[43mcontent\u001b[49m\u001b[43m,\u001b[49m\u001b[43m \u001b[49m\u001b[38;5;241;43m*\u001b[39;49m\u001b[38;5;241;43m*\u001b[39;49m\u001b[43mkwargs\u001b[49m\u001b[43m)\u001b[49m\n",
      "File \u001b[1;32mc:\\Users\\DELL2023\\Desktop\\rag\\.venv_rag\\Lib\\site-packages\\pydantic\\v1\\main.py:341\u001b[0m, in \u001b[0;36mBaseModel.__init__\u001b[1;34m(__pydantic_self__, **data)\u001b[0m\n\u001b[0;32m    339\u001b[0m values, fields_set, validation_error \u001b[38;5;241m=\u001b[39m validate_model(__pydantic_self__\u001b[38;5;241m.\u001b[39m\u001b[38;5;18m__class__\u001b[39m, data)\n\u001b[0;32m    340\u001b[0m \u001b[38;5;28;01mif\u001b[39;00m validation_error:\n\u001b[1;32m--> 341\u001b[0m     \u001b[38;5;28;01mraise\u001b[39;00m validation_error\n\u001b[0;32m    342\u001b[0m \u001b[38;5;28;01mtry\u001b[39;00m:\n\u001b[0;32m    343\u001b[0m     object_setattr(__pydantic_self__, \u001b[38;5;124m'\u001b[39m\u001b[38;5;124m__dict__\u001b[39m\u001b[38;5;124m'\u001b[39m, values)\n",
      "\u001b[1;31mValidationError\u001b[0m: 2 validation errors for HumanMessage\ncontent\n  str type expected (type=type_error.str)\ncontent\n  value is not a valid list (type=type_error.list)"
     ]
    }
   ],
   "source": [
    "# ENTER YOUR QUESTION HERE\n",
    "question = \"\"\"how many total credits need to be done in B.tech IIT mandi per semester\n",
    "\"\"\"\n",
    "\n",
    "ai_msg = rag_chain.invoke({\"question\": question,\"chat_history\":  [HumanMessage(content=chat_history[0])]})\n",
    "\n",
    "print()\n",
    "print(ai_msg.content)\n",
    "print()"
   ]
  }
 ],
 "metadata": {
  "kernelspec": {
   "display_name": "Python 3",
   "language": "python",
   "name": "python3"
  },
  "language_info": {
   "codemirror_mode": {
    "name": "ipython",
    "version": 3
   },
   "file_extension": ".py",
   "mimetype": "text/x-python",
   "name": "python",
   "nbconvert_exporter": "python",
   "pygments_lexer": "ipython3",
   "version": "3.11.5"
  }
 },
 "nbformat": 4,
 "nbformat_minor": 2
}
